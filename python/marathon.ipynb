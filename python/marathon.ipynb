{
 "cells": [
  {
   "cell_type": "code",
   "execution_count": 1,
   "metadata": {},
   "outputs": [],
   "source": [
    "import glob"
   ]
  },
  {
   "cell_type": "code",
   "execution_count": 4,
   "metadata": {},
   "outputs": [],
   "source": [
    "images = glob.glob('/mnt/marathon/train/images/*')"
   ]
  },
  {
   "cell_type": "code",
   "execution_count": 5,
   "metadata": {},
   "outputs": [
    {
     "data": {
      "text/plain": [
       "['/mnt/marathon/train/images/nvr1_20181206_cam2_173000-026.jpg',\n",
       " '/mnt/marathon/train/images/nvr1_20181206_cam2_153000-064.jpg',\n",
       " '/mnt/marathon/train/images/nvr1_20181206_cam2_150000-052.jpg',\n",
       " '/mnt/marathon/train/images/nvr1_20181206_cam1_180000-054.jpg',\n",
       " '/mnt/marathon/train/images/nvr1_20181206_cam2_153000-086.jpg',\n",
       " '/mnt/marathon/train/images/nvr1_20181206_cam2_173000-062.jpg',\n",
       " '/mnt/marathon/train/images/nvr1_20181206_cam1_183000-004.jpg',\n",
       " '/mnt/marathon/train/images/nvr1_20181206_cam2_143000-074.jpg',\n",
       " '/mnt/marathon/train/images/nvr1_20181207_cam1_130000-012.jpg']"
      ]
     },
     "execution_count": 5,
     "metadata": {},
     "output_type": "execute_result"
    }
   ],
   "source": [
    "images"
   ]
  }
 ],
 "metadata": {
  "kernelspec": {
   "display_name": "Python 3",
   "language": "python",
   "name": "python3"
  },
  "language_info": {
   "codemirror_mode": {
    "name": "ipython",
    "version": 3
   },
   "file_extension": ".py",
   "mimetype": "text/x-python",
   "name": "python",
   "nbconvert_exporter": "python",
   "pygments_lexer": "ipython3",
   "version": "3.6.7"
  }
 },
 "nbformat": 4,
 "nbformat_minor": 2
}
